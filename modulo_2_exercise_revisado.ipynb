{
  "nbformat": 4,
  "nbformat_minor": 0,
  "metadata": {
    "colab": {
      "provenance": [],
      "toc_visible": true,
      "include_colab_link": true
    },
    "kernelspec": {
      "name": "python3",
      "display_name": "Python 3"
    }
  },
  "cells": [
    {
      "cell_type": "markdown",
      "metadata": {
        "id": "view-in-github",
        "colab_type": "text"
      },
      "source": [
        "<a href=\"https://colab.research.google.com/github/daianemaramaldo/daianemaramaldo/blob/main/modulo_2_exercise_revisado.ipynb\" target=\"_parent\"><img src=\"https://colab.research.google.com/assets/colab-badge.svg\" alt=\"Open In Colab\"/></a>"
      ]
    },
    {
      "cell_type": "markdown",
      "metadata": {
        "id": "KJqp9AANOCtf"
      },
      "source": [
        "<img src=\"https://raw.githubusercontent.com/andre-marcos-perez/ebac-course-utils/main/media/logo/newebac_logo_black_half.png\" alt=\"ebac-logo\">\n",
        "\n",
        "---\n",
        "\n",
        "# **Módulo 02** | Python: Estruturas de Dados\n",
        "Caderno de **Exercícios**<br> \n",
        "Professor [André Perez](https://www.linkedin.com/in/andremarcosperez/)\n",
        "\n",
        "---"
      ]
    },
    {
      "cell_type": "markdown",
      "metadata": {
        "id": "d9jDtUbDOE1-"
      },
      "source": [
        "# **Tópicos**\n",
        "\n",
        "<ol type=\"1\">\n",
        "  <li>Listas;</li>\n",
        "  <li>Conjuntos;</li>\n",
        "  <li>Dicionários.</li>\n",
        "</ol>"
      ]
    },
    {
      "cell_type": "markdown",
      "metadata": {
        "id": "SmoHgt-lwkpD"
      },
      "source": [
        "---"
      ]
    },
    {
      "cell_type": "markdown",
      "metadata": {
        "id": "GABI6OW8OfQ2"
      },
      "source": [
        "# **Exercícios**"
      ]
    },
    {
      "cell_type": "markdown",
      "metadata": {
        "id": "muD1vxozykSC"
      },
      "source": [
        "## 1\\. Listas"
      ]
    },
    {
      "cell_type": "markdown",
      "metadata": {
        "id": "ahrFfCuBxJKs"
      },
      "source": [
        "Criei uma lista chamada `filmes` com o nome dos 10 primeiros filmes mais bem avaliados no site no [IMDB](https://www.imdb.com/chart/top/). Imprima o resultado."
      ]
    },
    {
      "cell_type": "code",
      "metadata": {
        "id": "OgL6Hv3bzOHI",
        "colab": {
          "base_uri": "https://localhost:8080/"
        },
        "outputId": "0a713a63-c959-4c08-a668-c455d9a7536b"
      },
      "source": [
        "filmes_10melhores = ['1.The shawshank Redemption (1994)','2.The Godfather (1972)','3.The dark knight (1972)','4.The Godfathr: part II','5. 12 Angry Men (1957)','6. Schindlers List (1993)','7. The Lord of the rings:The return of the king (2003)','8.Pulp Fiction (1994)','9. The lord of the ring: The fellowship of the ring (2001)','10. The good, the bad and the ugly(1996)']\n",
        "print (filmes_10melhores)\n",
        "print (type(filmes_10melhores))\n",
        "print (len(filmes_10melhores))"
      ],
      "execution_count": 1,
      "outputs": [
        {
          "output_type": "stream",
          "name": "stdout",
          "text": [
            "['1.The shawshank Redemption (1994)', '2.The Godfather (1972)', '3.The dark knight (1972)', '4.The Godfathr: part II', '5. 12 Angry Men (1957)', '6. Schindlers List (1993)', '7. The Lord of the rings:The return of the king (2003)', '8.Pulp Fiction (1994)', '9. The lord of the ring: The fellowship of the ring (2001)', '10. The good, the bad and the ugly(1996)']\n",
            "<class 'list'>\n",
            "10\n"
          ]
        }
      ]
    },
    {
      "cell_type": "markdown",
      "metadata": {
        "id": "KI9zQRT2xa7m"
      },
      "source": [
        "Simule a movimentação do *ranking*. Utilize os métodos `insert` e `pop` para trocar a posição do primeiro e do segundo filme da lista. Imprima o resultado.\n",
        "\n"
      ]
    },
    {
      "cell_type": "code",
      "metadata": {
        "id": "zX3mA3_GzrXH",
        "colab": {
          "base_uri": "https://localhost:8080/"
        },
        "outputId": "9f45b822-3c4d-40c3-95e6-3cf5c5038407"
      },
      "source": [
        "removerelemento_filme = filmes_10melhores.pop(3)\n",
        "print (filmes_10melhores)"
      ],
      "execution_count": 2,
      "outputs": [
        {
          "output_type": "stream",
          "name": "stdout",
          "text": [
            "['1.The shawshank Redemption (1994)', '2.The Godfather (1972)', '3.The dark knight (1972)', '5. 12 Angry Men (1957)', '6. Schindlers List (1993)', '7. The Lord of the rings:The return of the king (2003)', '8.Pulp Fiction (1994)', '9. The lord of the ring: The fellowship of the ring (2001)', '10. The good, the bad and the ugly(1996)']\n"
          ]
        }
      ]
    },
    {
      "cell_type": "code",
      "source": [
        "filmes_10melhores.insert(2,'Dead Fish (2000)')\n",
        "print (filmes_10melhores)"
      ],
      "metadata": {
        "colab": {
          "base_uri": "https://localhost:8080/"
        },
        "id": "y7ftarDeMuzH",
        "outputId": "af963588-1509-4202-d772-b24c4beb8a0a"
      },
      "execution_count": 3,
      "outputs": [
        {
          "output_type": "stream",
          "name": "stdout",
          "text": [
            "['1.The shawshank Redemption (1994)', '2.The Godfather (1972)', 'Dead Fish (2000)', '3.The dark knight (1972)', '5. 12 Angry Men (1957)', '6. Schindlers List (1993)', '7. The Lord of the rings:The return of the king (2003)', '8.Pulp Fiction (1994)', '9. The lord of the ring: The fellowship of the ring (2001)', '10. The good, the bad and the ugly(1996)']\n"
          ]
        }
      ]
    },
    {
      "cell_type": "markdown",
      "metadata": {
        "id": "zMN1Q3jdwoJm"
      },
      "source": [
        "---"
      ]
    },
    {
      "cell_type": "markdown",
      "metadata": {
        "id": "lxa5L6uF0ZJE"
      },
      "source": [
        "## 2\\. Conjuntos"
      ]
    },
    {
      "cell_type": "markdown",
      "metadata": {
        "id": "9JahS2Kj0d5u"
      },
      "source": [
        "Aconteceu um erro no seu *ranking*. Simule a duplicação dos três últimos filmes da lista. Imprima o resultado."
      ]
    },
    {
      "cell_type": "code",
      "metadata": {
        "id": "BnjnLBNC6PGe",
        "colab": {
          "base_uri": "https://localhost:8080/"
        },
        "outputId": "9bc180ad-b790-44ff-de56-b66104374a51"
      },
      "source": [
        "filmes_10melhores = ['1.The shawshank Redemption (1994)','2.The Godfather (1972)','3.The dark knight (1972)','4.The Godfather: part II','5. 12 Angry Men (1957)','6. Schindlers List (1993)','7. The Lord of the rings:The return of the king (2003)','8.pulp Fiction (1994)', '9. The lord of the ring: The fellowship of the ring (2000)', '10.The good, the bad and the ugly(1996)','8.pulp Fiction (1994)','9. The lord of the ring: The fellowship of the ring (2000)','10.The good, the bad and the ugly(1996)']\n",
        "print(filmes_10melhores)\n",
        "print (type(filmes_10melhores))\n",
        "print (len(filmes_10melhores))\n"
      ],
      "execution_count": 4,
      "outputs": [
        {
          "output_type": "stream",
          "name": "stdout",
          "text": [
            "['1.The shawshank Redemption (1994)', '2.The Godfather (1972)', '3.The dark knight (1972)', '4.The Godfather: part II', '5. 12 Angry Men (1957)', '6. Schindlers List (1993)', '7. The Lord of the rings:The return of the king (2003)', '8.pulp Fiction (1994)', '9. The lord of the ring: The fellowship of the ring (2000)', '10.The good, the bad and the ugly(1996)', '8.pulp Fiction (1994)', '9. The lord of the ring: The fellowship of the ring (2000)', '10.The good, the bad and the ugly(1996)']\n",
            "<class 'list'>\n",
            "13\n"
          ]
        }
      ]
    },
    {
      "cell_type": "markdown",
      "metadata": {
        "id": "suxTfCJB6ZiX"
      },
      "source": [
        "Utiliza a conversão `set` e `list` para remover os valores duplicados. Imprima o resultado. "
      ]
    },
    {
      "cell_type": "code",
      "metadata": {
        "id": "ZvUGN-0n6joM",
        "colab": {
          "base_uri": "https://localhost:8080/"
        },
        "outputId": "13bf6c36-cb24-4816-dd67-bb0f071e8b35"
      },
      "source": [
        "filmes_10melhores = set(filmes_10melhores)\n",
        "print (filmes_10melhores)\n",
        "print (type(filmes_10melhores))\n",
        "print (len(filmes_10melhores))"
      ],
      "execution_count": 5,
      "outputs": [
        {
          "output_type": "stream",
          "name": "stdout",
          "text": [
            "{'2.The Godfather (1972)', '7. The Lord of the rings:The return of the king (2003)', '8.pulp Fiction (1994)', '4.The Godfather: part II', '9. The lord of the ring: The fellowship of the ring (2000)', '10.The good, the bad and the ugly(1996)', '1.The shawshank Redemption (1994)', '5. 12 Angry Men (1957)', '3.The dark knight (1972)', '6. Schindlers List (1993)'}\n",
            "<class 'set'>\n",
            "10\n"
          ]
        }
      ]
    },
    {
      "cell_type": "markdown",
      "metadata": {
        "id": "ShkK35eQ6pAM"
      },
      "source": [
        "---"
      ]
    },
    {
      "cell_type": "markdown",
      "metadata": {
        "id": "EL_FzmxL6rTv"
      },
      "source": [
        "## 3\\. Dicionários"
      ]
    },
    {
      "cell_type": "markdown",
      "metadata": {
        "id": "i8l0gFqRCpfT"
      },
      "source": [
        "Repita os exercícios da parte 1 (listas). Os elementos da lista `filmes` devem ser dicionários no seguinte formato: `{'nome': <nome-do-filme>, 'ano': <ano do filme>}, 'sinopse': <sinopse do filme>}`. "
      ]
    },
    {
      "cell_type": "code",
      "source": [
        "filmes_10melhores = {\n",
        "    'nome':'1.The shaeshank Redemption',\n",
        "    'ano': 1994,\n",
        "    'sinopse':'good'\n",
        "    }\n",
        "print (type(filmes_10melhores))\n",
        "print (filmes_10melhores)"
      ],
      "metadata": {
        "colab": {
          "base_uri": "https://localhost:8080/"
        },
        "id": "XCSOcYR2YyF_",
        "outputId": "c87775d3-8b8d-4668-ad27-94580144f3e9"
      },
      "execution_count": 6,
      "outputs": [
        {
          "output_type": "stream",
          "name": "stdout",
          "text": [
            "<class 'dict'>\n",
            "{'nome': '1.The shaeshank Redemption', 'ano': 1994, 'sinopse': 'good'}\n"
          ]
        }
      ]
    }
  ]
}