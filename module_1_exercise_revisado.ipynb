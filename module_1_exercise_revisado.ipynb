{
  "nbformat": 4,
  "nbformat_minor": 0,
  "metadata": {
    "colab": {
      "provenance": [],
      "include_colab_link": true
    },
    "kernelspec": {
      "name": "python3",
      "display_name": "Python 3"
    },
    "language_info": {
      "name": "python"
    }
  },
  "cells": [
    {
      "cell_type": "markdown",
      "metadata": {
        "id": "view-in-github",
        "colab_type": "text"
      },
      "source": [
        "<a href=\"https://colab.research.google.com/github/daianemaramaldo/daianemaramaldo/blob/main/module_1_exercise_revisado.ipynb\" target=\"_parent\"><img src=\"https://colab.research.google.com/assets/colab-badge.svg\" alt=\"Open In Colab\"/></a>"
      ]
    },
    {
      "cell_type": "code",
      "source": [
        "#1.google_colab\n",
        "inicio_dia = 'olá mundo'\n",
        "print(inicio_dia)"
      ],
      "metadata": {
        "colab": {
          "base_uri": "https://localhost:8080/"
        },
        "id": "J6KX8xJa6E56",
        "outputId": "6a0ac84f-5516-4317-bc78-d6b49328b10b"
      },
      "execution_count": 1,
      "outputs": [
        {
          "output_type": "stream",
          "name": "stdout",
          "text": [
            "olá mundo\n"
          ]
        }
      ]
    },
    {
      "cell_type": "code",
      "source": [
        "\n",
        "#2.Números\n",
        "\n",
        "#A\n",
        "ticket_medio19 = 320.52\n",
        "qtd_total_vendas19 = 3\n",
        "valor_total_vendas19 = (ticket_medio19) * (qtd_total_vendas19)\n",
        "print(valor_total_vendas19)\n",
        "\n",
        "#B\n",
        "\n",
        "ticket_medio20 = 119.21\n",
        "valor_total_vendas20= 834.47\n",
        "qtd_total_vendas20 = valor_total_vendas20 / ticket_medio20\n",
        "print(qtd_total_vendas20)\n",
        "\n",
        "#C\n",
        "valor_total_vendas23 = 15378.12\n",
        "qtd_total_vendas23 = 5\n",
        "ticket_medio23 = valor_total_vendas23 / qtd_total_vendas23\n",
        "print(ticket_medio23)"
      ],
      "metadata": {
        "colab": {
          "base_uri": "https://localhost:8080/"
        },
        "id": "QEfloIg9wqZL",
        "outputId": "d84840d5-0e0e-4c19-8e6c-e0cdc8ccad96"
      },
      "execution_count": 2,
      "outputs": [
        {
          "output_type": "stream",
          "name": "stdout",
          "text": [
            "961.56\n",
            "7.000000000000001\n",
            "3075.6240000000003\n"
          ]
        }
      ]
    },
    {
      "cell_type": "code",
      "source": [
        "cancao = 'roda mundo, roda gigante, roda moinho, roda piao'\n",
        "cancao = cancao.replace('roda mundo','roda daidai')\n",
        "print (cancao)"
      ],
      "metadata": {
        "colab": {
          "base_uri": "https://localhost:8080/"
        },
        "id": "q_X3bjG-BT_p",
        "outputId": "4842fdb1-2e3c-4e0b-afea-86d036231e3f"
      },
      "execution_count": 3,
      "outputs": [
        {
          "output_type": "stream",
          "name": "stdout",
          "text": [
            "roda daidai, roda gigante, roda moinho, roda piao\n"
          ]
        }
      ]
    },
    {
      "cell_type": "code",
      "source": [
        "cancao = 'roda mundo, roda gigante, roda moinho, roda piao'\n",
        "print (cancao.upper())"
      ],
      "metadata": {
        "colab": {
          "base_uri": "https://localhost:8080/"
        },
        "id": "AL-HXBYBBxlP",
        "outputId": "5c98d709-4fd1-4181-bd23-04c4163befd2"
      },
      "execution_count": 4,
      "outputs": [
        {
          "output_type": "stream",
          "name": "stdout",
          "text": [
            "RODA MUNDO, RODA GIGANTE, RODA MOINHO, RODA PIAO\n"
          ]
        }
      ]
    },
    {
      "cell_type": "code",
      "source": [
        "cancao = 'roda mundo, roda gigante, roda moinho, roda piao'\n",
        "print (cancao.find('gigante'))"
      ],
      "metadata": {
        "colab": {
          "base_uri": "https://localhost:8080/"
        },
        "id": "ZQdUhqzdB-5h",
        "outputId": "dc88d313-582b-4529-b060-5938de1fc5cb"
      },
      "execution_count": 5,
      "outputs": [
        {
          "output_type": "stream",
          "name": "stdout",
          "text": [
            "17\n"
          ]
        }
      ]
    },
    {
      "cell_type": "code",
      "source": [
        "noticia = 'Selic vai a 2,75% e supera expextativas; '+  'é a primeira alta em 6 anos.'\n",
        "noticia_taxa = noticia.split()[3] \n",
        "noticia_taxa = noticia_taxa[:-1]\n",
        "print (noticia_taxa)"
      ],
      "metadata": {
        "colab": {
          "base_uri": "https://localhost:8080/"
        },
        "id": "5XfoEXdlCo-U",
        "outputId": "90076f3b-5fd4-46e2-9fc9-91c722e2128b"
      },
      "execution_count": 6,
      "outputs": [
        {
          "output_type": "stream",
          "name": "stdout",
          "text": [
            "2,75\n"
          ]
        }
      ]
    },
    {
      "cell_type": "code",
      "source": [
        "noticia = 'Selic vai a 2,75% e supera expextativas; '+ 'é a primeira alta em 6 anos.'\n",
        "noticia_ano = noticia.split()[12]\n",
        "print (noticia_ano)"
      ],
      "metadata": {
        "colab": {
          "base_uri": "https://localhost:8080/"
        },
        "id": "CVx-rIeWSe_5",
        "outputId": "5ddff5b3-bf6f-4057-89c2-01ca8bff0d51"
      },
      "execution_count": 7,
      "outputs": [
        {
          "output_type": "stream",
          "name": "stdout",
          "text": [
            "6\n"
          ]
        }
      ]
    },
    {
      "cell_type": "code",
      "source": [
        "a = False\n",
        "b = True\n",
        "x = not a & b\n",
        "print (x)"
      ],
      "metadata": {
        "colab": {
          "base_uri": "https://localhost:8080/"
        },
        "id": "aoXrISXbF34N",
        "outputId": "8fdbe4e0-d499-4db1-ec79-d2b9e9976127"
      },
      "execution_count": 8,
      "outputs": [
        {
          "output_type": "stream",
          "name": "stdout",
          "text": [
            "True\n"
          ]
        }
      ]
    }
  ]
}